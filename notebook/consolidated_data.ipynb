{
 "cells": [
  {
   "cell_type": "code",
   "execution_count": 1,
   "id": "b66129ad-50f7-46ef-b14d-9182efb204d2",
   "metadata": {},
   "outputs": [],
   "source": [
    "import matplotlib\n",
    "import matplotlib.pyplot as plt\n",
    "import matplotlib.animation as animation\n",
    "import pandas as pd\n",
    "import numpy as np"
   ]
  },
  {
   "cell_type": "code",
   "execution_count": 2,
   "id": "174818f2-35a4-48bc-ad97-67cadb23d2d2",
   "metadata": {},
   "outputs": [],
   "source": [
    "\"\"\"\n",
    "master_input.parquet\n",
    "master_output.parquet\n",
    "play_level.parquet\n",
    "player_analysis.parquet\n",
    "spatial_features.parquet\n",
    "supplementary.parquet\n",
    "trajectories.parquet\n",
    "\"\"\"\n",
    "base_dir = \"../consolidated_data/\""
   ]
  },
  {
   "cell_type": "code",
   "execution_count": 118,
   "id": "3dde99b4-37ef-49c6-ad95-0e84cf67fe4b",
   "metadata": {},
   "outputs": [],
   "source": [
    "game_id = '2023090700'\n",
    "play_id = '1679'\n",
    "nfl_id = '46243'\n",
    "play_keys = ['game_id', 'play_id']\n",
    "player_keys = play_keys + ['nfl_id']\n",
    "player_dtls = ['player_name', 'player_height', 'player_weight', 'player_birth_date', 'player_position', 'player_side', 'player_role', 'num_frames_output']\n",
    "player_mvmt = ['frame_id', 'x', 'y']\n",
    "\n",
    "input_cols = player_keys + player_dtls + player_mvmt + ['player_to_predict', 'play_direction', 'absolute_yardline_number', 's', 'a', 'dir', 'o', 'num_frames_output', 'ball_land_x', 'ball_land_y', 'week']\n",
    "input_df = pd.read_parquet(f'{base_dir}/master_input.parquet')\n",
    "\n",
    "output_cols = player_keys + player_mvmt\n",
    "output_df = pd.read_parquet(f'{base_dir}/master_output.parquet')\n",
    "\n",
    "supp_df = pd.read_parquet(f'{base_dir}/supplementary.parquet')"
   ]
  },
  {
   "cell_type": "code",
   "execution_count": 104,
   "id": "53bb5ae9-0bd3-4d3d-a1ab-2c84778be730",
   "metadata": {},
   "outputs": [
    {
     "data": {
      "text/plain": [
       "Index(['game_id', 'season', 'week', 'game_date', 'game_time_eastern',\n",
       "       'home_team_abbr', 'visitor_team_abbr', 'play_id', 'play_description',\n",
       "       'quarter', 'game_clock', 'down', 'yards_to_go', 'possession_team',\n",
       "       'defensive_team', 'yardline_side', 'yardline_number',\n",
       "       'pre_snap_home_score', 'pre_snap_visitor_score',\n",
       "       'play_nullified_by_penalty', 'pass_result', 'pass_length',\n",
       "       'offense_formation', 'receiver_alignment', 'route_of_targeted_receiver',\n",
       "       'play_action', 'dropback_type', 'dropback_distance',\n",
       "       'pass_location_type', 'defenders_in_the_box', 'team_coverage_man_zone',\n",
       "       'team_coverage_type', 'penalty_yards', 'pre_penalty_yards_gained',\n",
       "       'yards_gained', 'expected_points', 'expected_points_added',\n",
       "       'pre_snap_home_team_win_probability',\n",
       "       'pre_snap_visitor_team_win_probability',\n",
       "       'home_team_win_probability_added', 'visitor_team_win_probility_added'],\n",
       "      dtype='object')"
      ]
     },
     "execution_count": 104,
     "metadata": {},
     "output_type": "execute_result"
    }
   ],
   "source": [
    "supp_df.columns"
   ]
  },
  {
   "cell_type": "code",
   "execution_count": 52,
   "id": "6f820301-a596-4293-98b0-ae44636f9baf",
   "metadata": {},
   "outputs": [
    {
     "data": {
      "text/plain": [
       "game_id                                  4880579\n",
       "play_id                                  4880579\n",
       "player_to_predict                        4880579\n",
       "nfl_id                                   4880579\n",
       "frame_id                                 4880579\n",
       "                                          ...   \n",
       "expected_points_added                    4880579\n",
       "pre_snap_home_team_win_probability       4880579\n",
       "pre_snap_visitor_team_win_probability    4880579\n",
       "home_team_win_probability_added          4880579\n",
       "visitor_team_win_probility_added         4880579\n",
       "Length: 63, dtype: int64"
      ]
     },
     "execution_count": 52,
     "metadata": {},
     "output_type": "execute_result"
    }
   ],
   "source": [
    "pd.merge(input_df, supp_df, on=['game_id', 'play_id'], how='left')"
   ]
  },
  {
   "cell_type": "code",
   "execution_count": 5,
   "id": "d1ea10a5-3086-481b-8012-e1846cb694d3",
   "metadata": {},
   "outputs": [],
   "source": [
    "output_xdf = pd.merge(\n",
    "    output_df[output_cols], \n",
    "    input_df[player_keys + player_dtls].drop_duplicates(), \n",
    "    on=player_keys, \n",
    "    how='left'\n",
    ")"
   ]
  },
  {
   "cell_type": "code",
   "execution_count": 67,
   "id": "55bb6d09-7fe3-4571-a10b-4f2a2b289132",
   "metadata": {},
   "outputs": [],
   "source": [
    "hour = supp_df['game_clock'].iloc[0].split(':')[0]"
   ]
  },
  {
   "cell_type": "code",
   "execution_count": 136,
   "id": "c4942750-acb3-4e19-a43b-63c38a423fa3",
   "metadata": {},
   "outputs": [
    {
     "data": {
      "text/html": [
       "<div>\n",
       "<style scoped>\n",
       "    .dataframe tbody tr th:only-of-type {\n",
       "        vertical-align: middle;\n",
       "    }\n",
       "\n",
       "    .dataframe tbody tr th {\n",
       "        vertical-align: top;\n",
       "    }\n",
       "\n",
       "    .dataframe thead th {\n",
       "        text-align: right;\n",
       "    }\n",
       "</style>\n",
       "<table border=\"1\" class=\"dataframe\">\n",
       "  <thead>\n",
       "    <tr style=\"text-align: right;\">\n",
       "      <th></th>\n",
       "      <th>game_id</th>\n",
       "      <th>home_team_abbr</th>\n",
       "      <th>visitor_team_abbr</th>\n",
       "    </tr>\n",
       "  </thead>\n",
       "  <tbody>\n",
       "    <tr>\n",
       "      <th>13702</th>\n",
       "      <td>2024010709</td>\n",
       "      <td>LAC</td>\n",
       "      <td>KC</td>\n",
       "    </tr>\n",
       "    <tr>\n",
       "      <th>48</th>\n",
       "      <td>2023090700</td>\n",
       "      <td>KC</td>\n",
       "      <td>DET</td>\n",
       "    </tr>\n",
       "    <tr>\n",
       "      <th>1180</th>\n",
       "      <td>2023091705</td>\n",
       "      <td>JAX</td>\n",
       "      <td>KC</td>\n",
       "    </tr>\n",
       "    <tr>\n",
       "      <th>2389</th>\n",
       "      <td>2023092411</td>\n",
       "      <td>KC</td>\n",
       "      <td>CHI</td>\n",
       "    </tr>\n",
       "    <tr>\n",
       "      <th>3307</th>\n",
       "      <td>2023100113</td>\n",
       "      <td>NYJ</td>\n",
       "      <td>KC</td>\n",
       "    </tr>\n",
       "    <tr>\n",
       "      <th>4000</th>\n",
       "      <td>2023100810</td>\n",
       "      <td>MIN</td>\n",
       "      <td>KC</td>\n",
       "    </tr>\n",
       "    <tr>\n",
       "      <th>4133</th>\n",
       "      <td>2023101200</td>\n",
       "      <td>KC</td>\n",
       "      <td>DEN</td>\n",
       "    </tr>\n",
       "    <tr>\n",
       "      <th>5461</th>\n",
       "      <td>2023102209</td>\n",
       "      <td>KC</td>\n",
       "      <td>LAC</td>\n",
       "    </tr>\n",
       "    <tr>\n",
       "      <th>6255</th>\n",
       "      <td>2023102911</td>\n",
       "      <td>DEN</td>\n",
       "      <td>KC</td>\n",
       "    </tr>\n",
       "    <tr>\n",
       "      <th>6466</th>\n",
       "      <td>2023110500</td>\n",
       "      <td>KC</td>\n",
       "      <td>MIA</td>\n",
       "    </tr>\n",
       "    <tr>\n",
       "      <th>8538</th>\n",
       "      <td>2023112000</td>\n",
       "      <td>KC</td>\n",
       "      <td>PHI</td>\n",
       "    </tr>\n",
       "    <tr>\n",
       "      <th>9233</th>\n",
       "      <td>2023112608</td>\n",
       "      <td>LV</td>\n",
       "      <td>KC</td>\n",
       "    </tr>\n",
       "    <tr>\n",
       "      <th>10006</th>\n",
       "      <td>2023120310</td>\n",
       "      <td>GB</td>\n",
       "      <td>KC</td>\n",
       "    </tr>\n",
       "    <tr>\n",
       "      <th>10657</th>\n",
       "      <td>2023121009</td>\n",
       "      <td>KC</td>\n",
       "      <td>BUF</td>\n",
       "    </tr>\n",
       "    <tr>\n",
       "      <th>11634</th>\n",
       "      <td>2023121711</td>\n",
       "      <td>NE</td>\n",
       "      <td>KC</td>\n",
       "    </tr>\n",
       "    <tr>\n",
       "      <th>12438</th>\n",
       "      <td>2023122500</td>\n",
       "      <td>KC</td>\n",
       "      <td>LV</td>\n",
       "    </tr>\n",
       "    <tr>\n",
       "      <th>13294</th>\n",
       "      <td>2023123113</td>\n",
       "      <td>KC</td>\n",
       "      <td>CIN</td>\n",
       "    </tr>\n",
       "  </tbody>\n",
       "</table>\n",
       "</div>"
      ],
      "text/plain": [
       "          game_id home_team_abbr visitor_team_abbr\n",
       "13702  2024010709            LAC                KC\n",
       "48     2023090700             KC               DET\n",
       "1180   2023091705            JAX                KC\n",
       "2389   2023092411             KC               CHI\n",
       "3307   2023100113            NYJ                KC\n",
       "4000   2023100810            MIN                KC\n",
       "4133   2023101200             KC               DEN\n",
       "5461   2023102209             KC               LAC\n",
       "6255   2023102911            DEN                KC\n",
       "6466   2023110500             KC               MIA\n",
       "8538   2023112000             KC               PHI\n",
       "9233   2023112608             LV                KC\n",
       "10006  2023120310             GB                KC\n",
       "10657  2023121009             KC               BUF\n",
       "11634  2023121711             NE                KC\n",
       "12438  2023122500             KC                LV\n",
       "13294  2023123113             KC               CIN"
      ]
     },
     "execution_count": 136,
     "metadata": {},
     "output_type": "execute_result"
    }
   ],
   "source": [
    "season = 2023\n",
    "team = 'KC'\n",
    "\n",
    "# build predicate builder based on criteria for easy searching\n",
    "games_df = supp_df.query(f\"season == {season} and possession_team == '{team}'\").sort_values('game_date')\n",
    "games_df[['game_id', 'home_team_abbr', 'visitor_team_abbr']].drop_duplicates()"
   ]
  },
  {
   "cell_type": "code",
   "execution_count": 138,
   "id": "89842293-0d9f-4fdb-8f4b-b7dd10863e5e",
   "metadata": {},
   "outputs": [
    {
     "data": {
      "text/html": [
       "<div>\n",
       "<style scoped>\n",
       "    .dataframe tbody tr th:only-of-type {\n",
       "        vertical-align: middle;\n",
       "    }\n",
       "\n",
       "    .dataframe tbody tr th {\n",
       "        vertical-align: top;\n",
       "    }\n",
       "\n",
       "    .dataframe thead th {\n",
       "        text-align: right;\n",
       "    }\n",
       "</style>\n",
       "<table border=\"1\" class=\"dataframe\">\n",
       "  <thead>\n",
       "    <tr style=\"text-align: right;\">\n",
       "      <th></th>\n",
       "      <th>game_id</th>\n",
       "      <th>play_id</th>\n",
       "      <th>game_clock</th>\n",
       "      <th>pass_result</th>\n",
       "      <th>yards_gained</th>\n",
       "    </tr>\n",
       "  </thead>\n",
       "  <tbody>\n",
       "    <tr>\n",
       "      <th>5420</th>\n",
       "      <td>2023102209</td>\n",
       "      <td>937</td>\n",
       "      <td>14:23</td>\n",
       "      <td>C</td>\n",
       "      <td>46</td>\n",
       "    </tr>\n",
       "  </tbody>\n",
       "</table>\n",
       "</div>"
      ],
      "text/plain": [
       "         game_id  play_id game_clock pass_result  yards_gained\n",
       "5420  2023102209      937      14:23           C            46"
      ]
     },
     "execution_count": 138,
     "metadata": {},
     "output_type": "execute_result"
    }
   ],
   "source": [
    "game_id = 2023102209\n",
    "quarter = 2\n",
    "minute = 14\n",
    "possession_team = 'KC'\n",
    "cols = play_keys + ['game_clock', 'pass_result', 'yards_gained']\n",
    "\n",
    "game_df = games_df.query(f\"game_id == {game_id} and quarter == {quarter}\").loc[supp_df['game_clock'].str.split(':').str[0] == f'{str(minute).zfill(2)}'][cols]\n",
    "game_df\n",
    "# game_df.query(f\"possession_team == '{possession_team}'\")[['play_description', 'pass_result', 'game_clock']].sort_values('game_clock')"
   ]
  },
  {
   "cell_type": "code",
   "execution_count": null,
   "id": "89caab34-58c1-4d3a-9acc-ea97f74005b8",
   "metadata": {},
   "outputs": [],
   "source": []
  },
  {
   "cell_type": "code",
   "execution_count": null,
   "id": "b54b4635-2213-4156-ac2e-ab1e02d0233d",
   "metadata": {},
   "outputs": [],
   "source": []
  },
  {
   "cell_type": "code",
   "execution_count": null,
   "id": "f60f507f-33fc-4771-a21f-870cd05e12e0",
   "metadata": {},
   "outputs": [],
   "source": []
  }
 ],
 "metadata": {
  "kernelspec": {
   "display_name": "Python 3 (ipykernel)",
   "language": "python",
   "name": "python3"
  },
  "language_info": {
   "codemirror_mode": {
    "name": "ipython",
    "version": 3
   },
   "file_extension": ".py",
   "mimetype": "text/x-python",
   "name": "python",
   "nbconvert_exporter": "python",
   "pygments_lexer": "ipython3",
   "version": "3.13.0"
  }
 },
 "nbformat": 4,
 "nbformat_minor": 5
}
