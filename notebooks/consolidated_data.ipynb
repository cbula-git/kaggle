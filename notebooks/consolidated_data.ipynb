{
 "cells": [
  {
   "cell_type": "code",
   "execution_count": 1,
   "id": "b66129ad-50f7-46ef-b14d-9182efb204d2",
   "metadata": {},
   "outputs": [],
   "source": [
    "import matplotlib\n",
    "import matplotlib.pyplot as plt\n",
    "import matplotlib.animation as animation\n",
    "import pandas as pd\n",
    "import numpy as np"
   ]
  },
  {
   "cell_type": "code",
   "execution_count": 2,
   "id": "174818f2-35a4-48bc-ad97-67cadb23d2d2",
   "metadata": {},
   "outputs": [],
   "source": [
    "\"\"\"\n",
    "master_input.parquet\n",
    "master_output.parquet\n",
    "play_level.parquet\n",
    "player_analysis.parquet\n",
    "spatial_features.parquet\n",
    "supplementary.parquet\n",
    "trajectories.parquet\n",
    "\"\"\"\n",
    "base_dir = \"../consolidated_data/\""
   ]
  },
  {
   "cell_type": "code",
   "execution_count": 118,
   "id": "3dde99b4-37ef-49c6-ad95-0e84cf67fe4b",
   "metadata": {},
   "outputs": [],
   "source": [
    "game_id = '2023090700'\n",
    "play_id = '1679'\n",
    "nfl_id = '46243'\n",
    "play_keys = ['game_id', 'play_id']\n",
    "player_keys = play_keys + ['nfl_id']\n",
    "player_dtls = ['player_name', 'player_height', 'player_weight', 'player_birth_date', 'player_position', 'player_side', 'player_role', 'num_frames_output']\n",
    "player_mvmt = ['frame_id', 'x', 'y']\n",
    "\n",
    "input_cols = player_keys + player_dtls + player_mvmt + ['player_to_predict', 'play_direction', 'absolute_yardline_number', 's', 'a', 'dir', 'o', 'num_frames_output', 'ball_land_x', 'ball_land_y', 'week']\n",
    "input_df = pd.read_parquet(f'{base_dir}/master_input.parquet')\n",
    "\n",
    "output_cols = player_keys + player_mvmt\n",
    "output_df = pd.read_parquet(f'{base_dir}/master_output.parquet')\n",
    "\n",
    "supp_df = pd.read_parquet(f'{base_dir}/supplementary.parquet')"
   ]
  },
  {
   "cell_type": "code",
   "execution_count": 104,
   "id": "53bb5ae9-0bd3-4d3d-a1ab-2c84778be730",
   "metadata": {},
   "outputs": [
    {
     "data": {
      "text/plain": [
       "Index(['game_id', 'season', 'week', 'game_date', 'game_time_eastern',\n",
       "       'home_team_abbr', 'visitor_team_abbr', 'play_id', 'play_description',\n",
       "       'quarter', 'game_clock', 'down', 'yards_to_go', 'possession_team',\n",
       "       'defensive_team', 'yardline_side', 'yardline_number',\n",
       "       'pre_snap_home_score', 'pre_snap_visitor_score',\n",
       "       'play_nullified_by_penalty', 'pass_result', 'pass_length',\n",
       "       'offense_formation', 'receiver_alignment', 'route_of_targeted_receiver',\n",
       "       'play_action', 'dropback_type', 'dropback_distance',\n",
       "       'pass_location_type', 'defenders_in_the_box', 'team_coverage_man_zone',\n",
       "       'team_coverage_type', 'penalty_yards', 'pre_penalty_yards_gained',\n",
       "       'yards_gained', 'expected_points', 'expected_points_added',\n",
       "       'pre_snap_home_team_win_probability',\n",
       "       'pre_snap_visitor_team_win_probability',\n",
       "       'home_team_win_probability_added', 'visitor_team_win_probility_added'],\n",
       "      dtype='object')"
      ]
     },
     "execution_count": 104,
     "metadata": {},
     "output_type": "execute_result"
    }
   ],
   "source": [
    "supp_df.columns"
   ]
  },
  {
   "cell_type": "code",
   "execution_count": 52,
   "id": "6f820301-a596-4293-98b0-ae44636f9baf",
   "metadata": {},
   "outputs": [
    {
     "data": {
      "text/plain": [
       "game_id                                  4880579\n",
       "play_id                                  4880579\n",
       "player_to_predict                        4880579\n",
       "nfl_id                                   4880579\n",
       "frame_id                                 4880579\n",
       "                                          ...   \n",
       "expected_points_added                    4880579\n",
       "pre_snap_home_team_win_probability       4880579\n",
       "pre_snap_visitor_team_win_probability    4880579\n",
       "home_team_win_probability_added          4880579\n",
       "visitor_team_win_probility_added         4880579\n",
       "Length: 63, dtype: int64"
      ]
     },
     "execution_count": 52,
     "metadata": {},
     "output_type": "execute_result"
    }
   ],
   "source": [
    "pd.merge(input_df, supp_df, on=['game_id', 'play_id'], how='left')"
   ]
  },
  {
   "cell_type": "code",
   "execution_count": 5,
   "id": "d1ea10a5-3086-481b-8012-e1846cb694d3",
   "metadata": {},
   "outputs": [],
   "source": [
    "output_xdf = pd.merge(\n",
    "    output_df[output_cols], \n",
    "    input_df[player_keys + player_dtls].drop_duplicates(), \n",
    "    on=player_keys, \n",
    "    how='left'\n",
    ")"
   ]
  },
  {
   "cell_type": "code",
   "execution_count": 67,
   "id": "55bb6d09-7fe3-4571-a10b-4f2a2b289132",
   "metadata": {},
   "outputs": [],
   "source": [
    "hour = supp_df['game_clock'].iloc[0].split(':')[0]"
   ]
  },
  {
   "cell_type": "code",
   "execution_count": 146,
   "id": "c4942750-acb3-4e19-a43b-63c38a423fa3",
   "metadata": {},
   "outputs": [
    {
     "data": {
      "text/html": [
       "<div>\n",
       "<style scoped>\n",
       "    .dataframe tbody tr th:only-of-type {\n",
       "        vertical-align: middle;\n",
       "    }\n",
       "\n",
       "    .dataframe tbody tr th {\n",
       "        vertical-align: top;\n",
       "    }\n",
       "\n",
       "    .dataframe thead th {\n",
       "        text-align: right;\n",
       "    }\n",
       "</style>\n",
       "<table border=\"1\" class=\"dataframe\">\n",
       "  <thead>\n",
       "    <tr style=\"text-align: right;\">\n",
       "      <th></th>\n",
       "      <th>game_id</th>\n",
       "      <th>week</th>\n",
       "      <th>home_team_abbr</th>\n",
       "      <th>visitor_team_abbr</th>\n",
       "    </tr>\n",
       "  </thead>\n",
       "  <tbody>\n",
       "    <tr>\n",
       "      <th>140</th>\n",
       "      <td>2023091002</td>\n",
       "      <td>1</td>\n",
       "      <td>CLE</td>\n",
       "      <td>CIN</td>\n",
       "    </tr>\n",
       "    <tr>\n",
       "      <th>992</th>\n",
       "      <td>2023091702</td>\n",
       "      <td>2</td>\n",
       "      <td>CIN</td>\n",
       "      <td>BAL</td>\n",
       "    </tr>\n",
       "    <tr>\n",
       "      <th>2544</th>\n",
       "      <td>2023092501</td>\n",
       "      <td>3</td>\n",
       "      <td>CIN</td>\n",
       "      <td>LA</td>\n",
       "    </tr>\n",
       "    <tr>\n",
       "      <th>3075</th>\n",
       "      <td>2023100109</td>\n",
       "      <td>4</td>\n",
       "      <td>TEN</td>\n",
       "      <td>CIN</td>\n",
       "    </tr>\n",
       "    <tr>\n",
       "      <th>3835</th>\n",
       "      <td>2023100807</td>\n",
       "      <td>5</td>\n",
       "      <td>ARI</td>\n",
       "      <td>CIN</td>\n",
       "    </tr>\n",
       "    <tr>\n",
       "      <th>4309</th>\n",
       "      <td>2023101503</td>\n",
       "      <td>6</td>\n",
       "      <td>CIN</td>\n",
       "      <td>SEA</td>\n",
       "    </tr>\n",
       "    <tr>\n",
       "      <th>6281</th>\n",
       "      <td>2023102912</td>\n",
       "      <td>8</td>\n",
       "      <td>SF</td>\n",
       "      <td>CIN</td>\n",
       "    </tr>\n",
       "    <tr>\n",
       "      <th>7029</th>\n",
       "      <td>2023110511</td>\n",
       "      <td>9</td>\n",
       "      <td>CIN</td>\n",
       "      <td>BUF</td>\n",
       "    </tr>\n",
       "    <tr>\n",
       "      <th>7288</th>\n",
       "      <td>2023111202</td>\n",
       "      <td>10</td>\n",
       "      <td>CIN</td>\n",
       "      <td>HOU</td>\n",
       "    </tr>\n",
       "    <tr>\n",
       "      <th>7867</th>\n",
       "      <td>2023111600</td>\n",
       "      <td>11</td>\n",
       "      <td>BAL</td>\n",
       "      <td>CIN</td>\n",
       "    </tr>\n",
       "    <tr>\n",
       "      <th>8858</th>\n",
       "      <td>2023112601</td>\n",
       "      <td>12</td>\n",
       "      <td>CIN</td>\n",
       "      <td>PIT</td>\n",
       "    </tr>\n",
       "    <tr>\n",
       "      <th>10041</th>\n",
       "      <td>2023120400</td>\n",
       "      <td>13</td>\n",
       "      <td>JAX</td>\n",
       "      <td>CIN</td>\n",
       "    </tr>\n",
       "    <tr>\n",
       "      <th>10320</th>\n",
       "      <td>2023121003</td>\n",
       "      <td>14</td>\n",
       "      <td>CIN</td>\n",
       "      <td>IND</td>\n",
       "    </tr>\n",
       "    <tr>\n",
       "      <th>10981</th>\n",
       "      <td>2023121600</td>\n",
       "      <td>15</td>\n",
       "      <td>CIN</td>\n",
       "      <td>MIN</td>\n",
       "    </tr>\n",
       "    <tr>\n",
       "      <th>11764</th>\n",
       "      <td>2023122300</td>\n",
       "      <td>16</td>\n",
       "      <td>PIT</td>\n",
       "      <td>CIN</td>\n",
       "    </tr>\n",
       "    <tr>\n",
       "      <th>13286</th>\n",
       "      <td>2023123113</td>\n",
       "      <td>17</td>\n",
       "      <td>KC</td>\n",
       "      <td>CIN</td>\n",
       "    </tr>\n",
       "    <tr>\n",
       "      <th>13497</th>\n",
       "      <td>2024010701</td>\n",
       "      <td>18</td>\n",
       "      <td>CIN</td>\n",
       "      <td>CLE</td>\n",
       "    </tr>\n",
       "  </tbody>\n",
       "</table>\n",
       "</div>"
      ],
      "text/plain": [
       "          game_id  week home_team_abbr visitor_team_abbr\n",
       "140    2023091002     1            CLE               CIN\n",
       "992    2023091702     2            CIN               BAL\n",
       "2544   2023092501     3            CIN                LA\n",
       "3075   2023100109     4            TEN               CIN\n",
       "3835   2023100807     5            ARI               CIN\n",
       "4309   2023101503     6            CIN               SEA\n",
       "6281   2023102912     8             SF               CIN\n",
       "7029   2023110511     9            CIN               BUF\n",
       "7288   2023111202    10            CIN               HOU\n",
       "7867   2023111600    11            BAL               CIN\n",
       "8858   2023112601    12            CIN               PIT\n",
       "10041  2023120400    13            JAX               CIN\n",
       "10320  2023121003    14            CIN               IND\n",
       "10981  2023121600    15            CIN               MIN\n",
       "11764  2023122300    16            PIT               CIN\n",
       "13286  2023123113    17             KC               CIN\n",
       "13497  2024010701    18            CIN               CLE"
      ]
     },
     "execution_count": 146,
     "metadata": {},
     "output_type": "execute_result"
    }
   ],
   "source": [
    "season = 2023\n",
    "team = 'CIN'\n",
    "\n",
    "# build predicate builder based on criteria for easy searching\n",
    "games_df = supp_df.query(f\"season == {season} and possession_team == '{team}'\").sort_values('week')\n",
    "games_df[['game_id', 'week', 'home_team_abbr', 'visitor_team_abbr']].drop_duplicates()"
   ]
  },
  {
   "cell_type": "code",
   "execution_count": 170,
   "id": "89842293-0d9f-4fdb-8f4b-b7dd10863e5e",
   "metadata": {},
   "outputs": [
    {
     "data": {
      "text/html": [
       "<div>\n",
       "<style scoped>\n",
       "    .dataframe tbody tr th:only-of-type {\n",
       "        vertical-align: middle;\n",
       "    }\n",
       "\n",
       "    .dataframe tbody tr th {\n",
       "        vertical-align: top;\n",
       "    }\n",
       "\n",
       "    .dataframe thead th {\n",
       "        text-align: right;\n",
       "    }\n",
       "</style>\n",
       "<table border=\"1\" class=\"dataframe\">\n",
       "  <thead>\n",
       "    <tr style=\"text-align: right;\">\n",
       "      <th></th>\n",
       "      <th>game_id</th>\n",
       "      <th>play_id</th>\n",
       "      <th>game_clock</th>\n",
       "      <th>pass_result</th>\n",
       "      <th>yards_gained</th>\n",
       "    </tr>\n",
       "  </thead>\n",
       "  <tbody>\n",
       "    <tr>\n",
       "      <th>3056</th>\n",
       "      <td>2023100109</td>\n",
       "      <td>201</td>\n",
       "      <td>11:17</td>\n",
       "      <td>C</td>\n",
       "      <td>10</td>\n",
       "    </tr>\n",
       "  </tbody>\n",
       "</table>\n",
       "</div>"
      ],
      "text/plain": [
       "         game_id  play_id game_clock pass_result  yards_gained\n",
       "3056  2023100109      201      11:17           C            10"
      ]
     },
     "execution_count": 170,
     "metadata": {},
     "output_type": "execute_result"
    }
   ],
   "source": [
    "game_id = 2023100109\n",
    "quarter = 1\n",
    "minute = 11\n",
    "cols = play_keys + ['game_clock', 'pass_result', 'yards_gained']\n",
    "\n",
    "game_df = games_df.query(f\"game_id == {game_id} and quarter == {quarter}\").loc[supp_df['game_clock'].str.split(':').str[0] == f'{str(minute).zfill(2)}'][cols]\n",
    "game_df"
   ]
  },
  {
   "cell_type": "code",
   "execution_count": 168,
   "id": "73a7ccd9-8d18-41d1-b48f-c3867dade5be",
   "metadata": {},
   "outputs": [],
   "source": [
    "# helper function\n",
    "import math\n",
    "def distance(x1, y1, x2, y2):\n",
    "    xcmp = (x2 - x1) ** 2\n",
    "    ycmp = (y2 - y1) ** 2\n",
    "    return math.sqrt(xcmp + ycmp)"
   ]
  },
  {
   "cell_type": "code",
   "execution_count": 162,
   "id": "3624ea2a-0073-48f3-b5af-342e2b1532ba",
   "metadata": {},
   "outputs": [],
   "source": [
    "passer = play_df.loc[play_df['player_role'] == 'Passer'][['x', 'y']].iloc[-1]\n",
    "ball = play_df[['ball_land_x', 'ball_land_y']].iloc[-1]"
   ]
  },
  {
   "cell_type": "code",
   "execution_count": 169,
   "id": "e4eb4086-413d-4c2b-a0db-c3a48ed43561",
   "metadata": {},
   "outputs": [
    {
     "data": {
      "text/plain": [
       "40.972777940102"
      ]
     },
     "execution_count": 169,
     "metadata": {},
     "output_type": "execute_result"
    }
   ],
   "source": [
    "distance(passer.iloc[0], passer.iloc[1], ball.iloc[0], ball.iloc[1])"
   ]
  },
  {
   "cell_type": "code",
   "execution_count": null,
   "id": "00998f79-e08b-468b-9264-f1218664925d",
   "metadata": {},
   "outputs": [],
   "source": []
  }
 ],
 "metadata": {
  "kernelspec": {
   "display_name": "Python 3 (ipykernel)",
   "language": "python",
   "name": "python3"
  },
  "language_info": {
   "codemirror_mode": {
    "name": "ipython",
    "version": 3
   },
   "file_extension": ".py",
   "mimetype": "text/x-python",
   "name": "python",
   "nbconvert_exporter": "python",
   "pygments_lexer": "ipython3",
   "version": "3.13.0"
  }
 },
 "nbformat": 4,
 "nbformat_minor": 5
}
