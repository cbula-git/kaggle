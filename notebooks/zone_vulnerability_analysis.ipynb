{
 "cells": [
  {
   "cell_type": "markdown",
   "metadata": {},
   "source": [
    "# Zone Vulnerability Analysis - Validation Notebook\n",
    "\n",
    "This notebook validates the zone vulnerability timeseries dataset and visualization tools.\n",
    "\n",
    "## Objectives\n",
    "1. Load and explore the zone vulnerability dataset\n",
    "2. Visualize zone grids for sample plays\n",
    "3. Analyze zone evolution over time\n",
    "4. Validate zone boundaries and metrics\n",
    "5. Identify most/least vulnerable zones"
   ]
  },
  {
   "cell_type": "code",
   "execution_count": null,
   "metadata": {},
   "outputs": [],
   "source": [
    "import pandas as pd\n",
    "import numpy as np\n",
    "import matplotlib.pyplot as plt\n",
    "import seaborn as sns\n",
    "from pathlib import Path\n",
    "\n",
    "# Import our custom classes\n",
    "from nfl_analysis import ZoneVulnerabilityVisualizer\n",
    "\n",
    "# Set display options\n",
    "pd.set_option('display.max_columns', None)\n",
    "pd.set_option('display.max_rows', 100)\n",
    "pd.set_option('display.float_format', '{:.2f}'.format)\n",
    "\n",
    "%matplotlib inline"
   ]
  },
  {
   "cell_type": "markdown",
   "metadata": {},
   "source": [
    "## 1. Load Zone Vulnerability Dataset"
   ]
  },
  {
   "cell_type": "code",
   "execution_count": null,
   "metadata": {},
   "outputs": [],
   "source": [
    "# Load the dataset\n",
    "data_dir = Path('../data/consolidated')\n",
    "zone_file = data_dir / 'zone_vulnerability_timeseries.parquet'\n",
    "\n",
    "if not zone_file.exists():\n",
    "    print(f\"ERROR: Zone vulnerability dataset not found at {zone_file}\")\n",
    "    print(\"Please run the consolidation pipeline first.\")\n",
    "else:\n",
    "    zone_data = pd.read_parquet(zone_file)\n",
    "    print(f\"✓ Loaded zone vulnerability dataset\")\n",
    "    print(f\"  Shape: {zone_data.shape}\")\n",
    "    print(f\"  Memory: {zone_data.memory_usage(deep=True).sum() / 1024**2:.1f} MB\")"
   ]
  },
  {
   "cell_type": "markdown",
   "metadata": {},
   "source": [
    "## 2. Dataset Overview"
   ]
  },
  {
   "cell_type": "code",
   "execution_count": null,
   "metadata": {},
   "outputs": [],
   "source": [
    "# Display first few rows\n",
    "print(\"First 5 rows:\")\n",
    "zone_data.head()"
   ]
  },
  {
   "cell_type": "code",
   "execution_count": null,
   "metadata": {},
   "outputs": [],
   "source": [
    "# Column info\n",
    "print(\"\\nColumn Information:\")\n",
    "zone_data.info()"
   ]
  },
  {
   "cell_type": "code",
   "execution_count": null,
   "metadata": {},
   "outputs": [],
   "source": [
    "# Summary statistics\n",
    "print(\"\\nSummary Statistics:\")\n",
    "zone_data[['defender_count', 'nearest_defender_dist', 'coverage_density', \n",
    "           'zone_void_score', 'receiver_count']].describe()"
   ]
  },
  {
   "cell_type": "markdown",
   "metadata": {},
   "source": [
    "## 3. Data Validation"
   ]
  },
  {
   "cell_type": "code",
   "execution_count": null,
   "metadata": {},
   "outputs": [],
   "source": [
    "# Check for expected 15 zones per frame\n",
    "zones_per_frame = zone_data.groupby(['game_id', 'play_id', 'frame_id']).size()\n",
    "print(f\"Zones per frame - Min: {zones_per_frame.min()}, Max: {zones_per_frame.max()}\")\n",
    "print(f\"Expected: 15 zones per frame\")\n",
    "if zones_per_frame.min() == 15 and zones_per_frame.max() == 15:\n",
    "    print(\"✓ PASS: All frames have exactly 15 zones\")\n",
    "else:\n",
    "    print(\"✗ FAIL: Some frames don't have 15 zones\")\n",
    "    print(zones_per_frame.value_counts())"
   ]
  },
  {
   "cell_type": "code",
   "execution_count": null,
   "metadata": {},
   "outputs": [],
   "source": [
    "# Check zone IDs\n",
    "print(\"\\nUnique zone IDs:\")\n",
    "print(sorted(zone_data['zone_id'].unique()))\n",
    "print(f\"\\nTotal unique zones: {zone_data['zone_id'].nunique()}\")\n",
    "print(\"Expected: 15 zones (3 depths × 5 lateral positions)\")"
   ]
  },
  {
   "cell_type": "code",
   "execution_count": null,
   "metadata": {},
   "outputs": [],
   "source": [
    "# Check phases\n",
    "print(\"\\nPhase distribution:\")\n",
    "print(zone_data['phase'].value_counts())\n",
    "print(\"\\nExpected phases: pre_snap, route_development, at_throw\")"
   ]
  },
  {
   "cell_type": "markdown",
   "metadata": {},
   "source": [
    "## 4. Zone Analysis"
   ]
  },
  {
   "cell_type": "code",
   "execution_count": null,
   "metadata": {},
   "outputs": [],
   "source": [
    "# Average vulnerability by zone\n",
    "print(\"Average Vulnerability Score by Zone:\")\n",
    "avg_by_zone = zone_data.groupby('zone_id')['zone_void_score'].mean().sort_values(ascending=False)\n",
    "print(avg_by_zone)\n",
    "\n",
    "# Plot\n",
    "fig, ax = plt.subplots(figsize=(12, 6))\n",
    "avg_by_zone.plot(kind='bar', ax=ax, color='coral', edgecolor='black')\n",
    "ax.set_title('Average Vulnerability Score by Zone', fontsize=14, fontweight='bold')\n",
    "ax.set_xlabel('Zone ID', fontsize=12)\n",
    "ax.set_ylabel('Average Void Score', fontsize=12)\n",
    "ax.grid(axis='y', alpha=0.3)\n",
    "plt.xticks(rotation=45, ha='right')\n",
    "plt.tight_layout()\n",
    "plt.show()"
   ]
  },
  {
   "cell_type": "code",
   "execution_count": null,
   "metadata": {},
   "outputs": [],
   "source": [
    "# Defender distribution by zone\n",
    "print(\"\\nAverage Defender Count by Zone:\")\n",
    "defenders_by_zone = zone_data.groupby('zone_id')['defender_count'].mean().sort_values(ascending=False)\n",
    "print(defenders_by_zone)\n",
    "\n",
    "# Plot\n",
    "fig, ax = plt.subplots(figsize=(12, 6))\n",
    "defenders_by_zone.plot(kind='bar', ax=ax, color='steelblue', edgecolor='black')\n",
    "ax.set_title('Average Defender Count by Zone', fontsize=14, fontweight='bold')\n",
    "ax.set_xlabel('Zone ID', fontsize=12)\n",
    "ax.set_ylabel('Average Defenders', fontsize=12)\n",
    "ax.grid(axis='y', alpha=0.3)\n",
    "plt.xticks(rotation=45, ha='right')\n",
    "plt.tight_layout()\n",
    "plt.show()"
   ]
  },
  {
   "cell_type": "markdown",
   "metadata": {},
   "source": [
    "## 5. Target Zone Analysis"
   ]
  },
  {
   "cell_type": "code",
   "execution_count": null,
   "metadata": {},
   "outputs": [],
   "source": [
    "# Which zones are targeted most frequently?\n",
    "target_zones = zone_data[zone_data['is_target_zone'] == True]\n",
    "\n",
    "print(\"Target Zone Distribution:\")\n",
    "target_dist = target_zones.groupby('zone_id').size().sort_values(ascending=False)\n",
    "print(target_dist)\n",
    "\n",
    "# Plot\n",
    "fig, ax = plt.subplots(figsize=(12, 6))\n",
    "target_dist.plot(kind='bar', ax=ax, color='green', edgecolor='black')\n",
    "ax.set_title('Frequency of Ball Landing by Zone', fontsize=14, fontweight='bold')\n",
    "ax.set_xlabel('Zone ID', fontsize=12)\n",
    "ax.set_ylabel('Count', fontsize=12)\n",
    "ax.grid(axis='y', alpha=0.3)\n",
    "plt.xticks(rotation=45, ha='right')\n",
    "plt.tight_layout()\n",
    "plt.show()"
   ]
  },
  {
   "cell_type": "code",
   "execution_count": null,
   "metadata": {},
   "outputs": [],
   "source": [
    "# Vulnerability of target zones at throw\n",
    "target_at_throw = zone_data[\n",
    "    (zone_data['is_target_zone'] == True) & \n",
    "    (zone_data['phase'] == 'at_throw')\n",
    "]\n",
    "\n",
    "print(\"\\nTarget Zone Vulnerability at Throw:\")\n",
    "print(target_at_throw[['zone_void_score', 'defender_count', 'nearest_defender_dist']].describe())\n",
    "\n",
    "# Histogram\n",
    "fig, axes = plt.subplots(1, 3, figsize=(15, 4))\n",
    "\n",
    "axes[0].hist(target_at_throw['zone_void_score'], bins=30, color='red', edgecolor='black', alpha=0.7)\n",
    "axes[0].set_title('Void Score Distribution', fontweight='bold')\n",
    "axes[0].set_xlabel('Void Score')\n",
    "axes[0].set_ylabel('Frequency')\n",
    "\n",
    "axes[1].hist(target_at_throw['defender_count'], bins=range(6), color='blue', edgecolor='black', alpha=0.7)\n",
    "axes[1].set_title('Defender Count Distribution', fontweight='bold')\n",
    "axes[1].set_xlabel('Defenders in Zone')\n",
    "axes[1].set_ylabel('Frequency')\n",
    "\n",
    "axes[2].hist(target_at_throw['nearest_defender_dist'], bins=30, color='green', edgecolor='black', alpha=0.7)\n",
    "axes[2].set_title('Nearest Defender Distance', fontweight='bold')\n",
    "axes[2].set_xlabel('Distance (yards)')\n",
    "axes[2].set_ylabel('Frequency')\n",
    "\n",
    "plt.tight_layout()\n",
    "plt.show()"
   ]
  },
  {
   "cell_type": "markdown",
   "metadata": {},
   "source": [
    "## 6. Zone Grid Visualization (Sample Plays)"
   ]
  },
  {
   "cell_type": "code",
   "execution_count": null,
   "metadata": {},
   "outputs": [],
   "source": [
    "# Initialize visualizer\n",
    "visualizer = ZoneVulnerabilityVisualizer(data_dir='../data/consolidated')\n",
    "visualizer.load_zone_data()\n",
    "\n",
    "print(\"✓ Visualizer initialized and data loaded\")"
   ]
  },
  {
   "cell_type": "code",
   "execution_count": null,
   "metadata": {},
   "outputs": [],
   "source": [
    "# Get a sample play\n",
    "sample_plays = zone_data[['game_id', 'play_id']].drop_duplicates().head(5)\n",
    "print(\"Sample plays for visualization:\")\n",
    "print(sample_plays)"
   ]
  },
  {
   "cell_type": "code",
   "execution_count": null,
   "metadata": {},
   "outputs": [],
   "source": [
    "# Visualize zone grid for first sample play at different frames\n",
    "game_id = sample_plays.iloc[0]['game_id']\n",
    "play_id = sample_plays.iloc[0]['play_id']\n",
    "\n",
    "# Get frames for this play\n",
    "frames = zone_data[\n",
    "    (zone_data['game_id'] == game_id) & \n",
    "    (zone_data['play_id'] == play_id)\n",
    "]['frame_id'].unique()\n",
    "\n",
    "print(f\"\\nVisualizing Game {game_id}, Play {play_id}\")\n",
    "print(f\"Available frames: {sorted(frames)}\")\n",
    "\n",
    "# Visualize at pre-snap, mid-route, and at throw\n",
    "for frame_id in [frames[0], frames[len(frames)//2], frames[-1]]:\n",
    "    fig, ax = visualizer.plot_zone_grid(\n",
    "        game_id=game_id,\n",
    "        play_id=play_id,\n",
    "        frame_id=frame_id,\n",
    "        metric='zone_void_score',\n",
    "        figsize=(14, 8)\n",
    "    )\n",
    "    plt.show()"
   ]
  },
  {
   "cell_type": "markdown",
   "metadata": {},
   "source": [
    "## 7. Zone Evolution Over Time"
   ]
  },
  {
   "cell_type": "code",
   "execution_count": null,
   "metadata": {},
   "outputs": [],
   "source": [
    "# Track evolution of a specific zone\n",
    "game_id = sample_plays.iloc[0]['game_id']\n",
    "play_id = sample_plays.iloc[0]['play_id']\n",
    "\n",
    "# Find target zone for this play\n",
    "target_zone = zone_data[\n",
    "    (zone_data['game_id'] == game_id) & \n",
    "    (zone_data['play_id'] == play_id) &\n",
    "    (zone_data['is_target_zone'] == True)\n",
    "]['zone_id'].iloc[0]\n",
    "\n",
    "print(f\"Target zone for this play: {target_zone}\")\n",
    "\n",
    "# Visualize evolution\n",
    "fig, axes = visualizer.plot_zone_evolution(\n",
    "    game_id=game_id,\n",
    "    play_id=play_id,\n",
    "    zone_id=target_zone,\n",
    "    figsize=(14, 8)\n",
    ")\n",
    "plt.show()"
   ]
  },
  {
   "cell_type": "markdown",
   "metadata": {},
   "source": [
    "## 8. Phase Analysis"
   ]
  },
  {
   "cell_type": "code",
   "execution_count": null,
   "metadata": {},
   "outputs": [],
   "source": [
    "# How does vulnerability change across phases?\n",
    "phase_stats = zone_data.groupby('phase').agg({\n",
    "    'zone_void_score': ['mean', 'std', 'min', 'max'],\n",
    "    'defender_count': 'mean',\n",
    "    'nearest_defender_dist': 'mean'\n",
    "})\n",
    "\n",
    "print(\"Vulnerability by Phase:\")\n",
    "print(phase_stats)"
   ]
  },
  {
   "cell_type": "code",
   "execution_count": null,
   "metadata": {},
   "outputs": [],
   "source": [
    "# Visualize phase progression\n",
    "fig, axes = plt.subplots(1, 2, figsize=(15, 5))\n",
    "\n",
    "zone_data.boxplot(column='zone_void_score', by='phase', ax=axes[0])\n",
    "axes[0].set_title('Vulnerability Score by Phase', fontweight='bold')\n",
    "axes[0].set_xlabel('Phase')\n",
    "axes[0].set_ylabel('Void Score')\n",
    "plt.suptitle('')  # Remove default title\n",
    "\n",
    "zone_data.boxplot(column='defender_count', by='phase', ax=axes[1])\n",
    "axes[1].set_title('Defender Count by Phase', fontweight='bold')\n",
    "axes[1].set_xlabel('Phase')\n",
    "axes[1].set_ylabel('Defenders per Zone')\n",
    "plt.suptitle('')  # Remove default title\n",
    "\n",
    "plt.tight_layout()\n",
    "plt.show()"
   ]
  },
  {
   "cell_type": "markdown",
   "metadata": {},
   "source": [
    "## 9. Summary and Validation Results"
   ]
  },
  {
   "cell_type": "code",
   "execution_count": null,
   "metadata": {},
   "outputs": [],
   "source": [
    "print(\"=\"*70)\n",
    "print(\"ZONE VULNERABILITY DATASET VALIDATION SUMMARY\")\n",
    "print(\"=\"*70)\n",
    "print(f\"\\nDataset Shape: {zone_data.shape}\")\n",
    "print(f\"Total Plays: {zone_data[['game_id', 'play_id']].drop_duplicates().shape[0]:,}\")\n",
    "print(f\"Total Frames: {zone_data[['game_id', 'play_id', 'frame_id']].drop_duplicates().shape[0]:,}\")\n",
    "print(f\"Avg Frames/Play: {zone_data.groupby(['game_id', 'play_id'])['frame_id'].nunique().mean():.1f}\")\n",
    "print(f\"\\nZones per Frame: {zones_per_frame.mode()[0]}\")\n",
    "print(f\"Unique Zones: {zone_data['zone_id'].nunique()}\")\n",
    "print(f\"\\nVulnerability Score Range: [{zone_data['zone_void_score'].min():.2f}, {zone_data['zone_void_score'].max():.2f}]\")\n",
    "print(f\"Average Vulnerability: {zone_data['zone_void_score'].mean():.2f}\")\n",
    "print(f\"\\nMost Vulnerable Zone: {avg_by_zone.index[0]} (avg score: {avg_by_zone.iloc[0]:.2f})\")\n",
    "print(f\"Least Vulnerable Zone: {avg_by_zone.index[-1]} (avg score: {avg_by_zone.iloc[-1]:.2f})\")\n",
    "print(f\"\\nMost Targeted Zone: {target_dist.index[0]} ({target_dist.iloc[0]:,} times)\")\n",
    "print(\"\\n\" + \"=\"*70)\n",
    "print(\"✓ VALIDATION COMPLETE\")\n",
    "print(\"=\"*70)"
   ]
  }
 ],
 "metadata": {
  "kernelspec": {
   "display_name": "Python 3",
   "language": "python",
   "name": "python3"
  },
  "language_info": {
   "codemirror_mode": {
    "name": "ipython",
    "version": 3
   },
   "file_extension": ".py",
   "mimetype": "text/x-python",
   "name": "python",
   "nbconvert_exporter": "python",
   "pygments_lexer": "ipython3",
   "version": "3.8.0"
  }
 },
 "nbformat": 4,
 "nbformat_minor": 4
}
